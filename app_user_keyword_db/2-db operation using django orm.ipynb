{
 "cells": [
  {
   "cell_type": "code",
   "execution_count": 1,
   "id": "d42ac35f",
   "metadata": {},
   "outputs": [],
   "source": [
    "import os\n",
    "import sys\n",
    "import pandas as pd\n",
    "import argparse\n",
    "from datetime import datetime, timedelta\n",
    "import pathlib\n",
    "\n",
    "# 新增：將上一層目錄加入 sys.path\n",
    "parent_path = pathlib.Path().absolute().parent\n",
    "sys.path.insert(0, str(parent_path))\n",
    "# Setup Django environment\n",
    "os.environ.setdefault('DJANGO_SETTINGS_MODULE', 'website_configs.settings')\n",
    "import django\n",
    "django.setup()\n",
    "# 重要：設定環境變數以允許在 Jupyter 的異步環境中執行同步操作\n",
    "os.environ[\"DJANGO_ALLOW_ASYNC_UNSAFE\"] = \"true\"\n",
    "\n",
    "# Now we can import Django models\n",
    "from app_user_keyword_association_db.models import NewsData"
   ]
  },
  {
   "cell_type": "code",
   "execution_count": 2,
   "id": "86c1f8da",
   "metadata": {},
   "outputs": [],
   "source": [
    "from django.db.models import Q, Max, F\n",
    "from collections import Counter"
   ]
  },
  {
   "cell_type": "code",
   "execution_count": null,
   "id": "7bfcf92e",
   "metadata": {},
   "outputs": [],
   "source": []
  },
  {
   "cell_type": "code",
   "execution_count": 3,
   "id": "7477622a",
   "metadata": {},
   "outputs": [],
   "source": [
    "# Searching keywords from \"content\" column\n",
    "# This function now uses database queries instead of pandas\n",
    "def filter_database_fullText(user_keywords, cond, cate, weeks):\n",
    "    # Get the latest date in the database\n",
    "    latest_date = NewsData.objects.aggregate(max_date=Max('date'))['max_date']\n",
    "    \n",
    "    # Calculate start date\n",
    "    start_date = latest_date - timedelta(weeks=weeks)\n",
    "    \n",
    "    # Base query - filter by date range\n",
    "    queryset = NewsData.objects.filter(date__gte=start_date, date__lte=latest_date)\n",
    "    \n",
    "    # Filter by category if not \"全部\"\n",
    "    if cate != \"全部\":\n",
    "        queryset = queryset.filter(category=cate)\n",
    "    \n",
    "    # Filter by keywords based on condition (AND or OR)\n",
    "    if cond == 'and':\n",
    "        # For AND condition, we need all keywords to be present\n",
    "        for kw in user_keywords:\n",
    "            queryset = queryset.filter(content__contains=kw)\n",
    "    elif cond == 'or':\n",
    "        # For OR condition, any keyword can be present\n",
    "        q_objects = Q()\n",
    "        for kw in user_keywords:\n",
    "            q_objects |= Q(content__contains=kw)\n",
    "        queryset = queryset.filter(q_objects)\n",
    "    \n",
    "    return queryset"
   ]
  },
  {
   "cell_type": "code",
   "execution_count": 4,
   "id": "f2c64d20",
   "metadata": {},
   "outputs": [],
   "source": [
    "\n",
    "user_keywords = ['烏克蘭', '俄羅斯']  # Example keywords\n",
    "cond = 'and'  # Example condition (and/or), \n",
    "cate = '全部'  # Example category (or \"全部\" for all categories)\n",
    "weeks = 4  # Example weeks\n",
    "queryset = filter_database_fullText(user_keywords, cond, cate, weeks)"
   ]
  },
  {
   "cell_type": "code",
   "execution_count": 9,
   "id": "7461b02c",
   "metadata": {},
   "outputs": [
    {
     "name": "stdout",
     "output_type": "stream",
     "text": [
      "俄侵烏克蘭全球憤慨 臉書放寬規定讓人抒發怒火\n",
      "Apple新品一次看 iPhone SE售1萬3900元起iPad Air有5色[影]\n",
      "北京冬季帕運閉幕 帕委會主席談和平與希望\n",
      "俄烏談判露曙光 油價下滑5%\n",
      "華碩停止對俄羅斯出貨 捐款3000萬賑濟烏克蘭\n",
      "油價若續漲 朱澤民：今年CPI有可能超過2%\n",
      "澳洲擴大制裁俄羅斯 歐盟要凍結切爾西老闆資產\n",
      "俄羅斯提核協議新要求 伊朗外長將赴莫斯科討論\n",
      "2022酷寒演習展開 3萬北約兵力集結挪威\n",
      "俄國遭制裁降價求售石油和商品 印度考慮採購\n",
      "烏克蘭戰事中國疫情添不安 亞股多數收黑\n",
      "路透社：美中高層已在羅馬會晤\n",
      "借鑑烏克蘭核電廠遭攻 日研議核廠設專屬警備隊\n",
      "烏俄進行第4輪談判 烏克蘭代表稱雙方溝通困難\n",
      "國際博物館協會發聲拒絕戰爭 吳思瑤籲故宮跟進\n",
      "戰爭時文物如何疏散  故宮3個月內擬對策7月推演\n",
      "香港恆指暴跌千點 失守2萬點創6年新低\n"
     ]
    }
   ],
   "source": [
    "for news in queryset:\n",
    "    print(news.title)"
   ]
  },
  {
   "cell_type": "code",
   "execution_count": null,
   "id": "4e276c32",
   "metadata": {},
   "outputs": [],
   "source": [
    "# Limit to k results and get specific fields\n",
    "news_items = queryset.values('category', 'title', 'link', 'photo_link')[:3]"
   ]
  },
  {
   "cell_type": "code",
   "execution_count": 8,
   "id": "16648dab",
   "metadata": {},
   "outputs": [
    {
     "data": {
      "text/plain": [
       "<QuerySet [{'category': '科技', 'title': '俄侵烏克蘭全球憤慨 臉書放寬規定讓人抒發怒火', 'link': 'https://www.cna.com.tw/news/ait/202203110088.aspx', 'photo_link': 'https://imgcdn.cna.com.tw/www/WebPhotos/200/20220311/2000x1391_0522240424184.jpg'}, {'category': '科技', 'title': 'Apple新品一次看 iPhone SE售1萬3900元起iPad Air有5色[影]', 'link': 'https://www.cna.com.tw/news/ait/202203090006.aspx', 'photo_link': 'https://imgcdn.cna.com.tw/www/webphotos/WebCover/420/20220309/800x600_644221551345.jpg'}, {'category': '運動', 'title': '北京冬季帕運閉幕 帕委會主席談和平與希望', 'link': 'https://www.cna.com.tw/news/aspt/202203130215.aspx', 'photo_link': None}]>"
      ]
     },
     "execution_count": 8,
     "metadata": {},
     "output_type": "execute_result"
    }
   ],
   "source": [
    "news_items"
   ]
  },
  {
   "cell_type": "code",
   "execution_count": 7,
   "id": "cb2d9d28",
   "metadata": {},
   "outputs": [],
   "source": [
    "dates = list(queryset.values_list('date', flat=True))"
   ]
  },
  {
   "cell_type": "code",
   "execution_count": null,
   "id": "bea8f33c",
   "metadata": {},
   "outputs": [],
   "source": []
  }
 ],
 "metadata": {
  "kernelspec": {
   "display_name": "ai24",
   "language": "python",
   "name": "python3"
  },
  "language_info": {
   "codemirror_mode": {
    "name": "ipython",
    "version": 3
   },
   "file_extension": ".py",
   "mimetype": "text/x-python",
   "name": "python",
   "nbconvert_exporter": "python",
   "pygments_lexer": "ipython3",
   "version": "3.10.15"
  }
 },
 "nbformat": 4,
 "nbformat_minor": 5
}
